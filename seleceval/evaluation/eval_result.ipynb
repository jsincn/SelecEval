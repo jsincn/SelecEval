{
 "cells": [
  {
   "cell_type": "code",
   "execution_count": 11,
   "metadata": {
    "collapsed": true,
    "ExecuteTime": {
     "end_time": "2023-06-27T13:58:10.416408404Z",
     "start_time": "2023-06-27T13:58:10.415949588Z"
    }
   },
   "outputs": [],
   "source": [
    "import pandas as pd\n",
    "import json\n",
    "import numpy as np\n",
    "import matplotlib.pyplot as plt"
   ]
  },
  {
   "cell_type": "markdown",
   "source": [],
   "metadata": {
    "collapsed": false
   }
  },
  {
   "cell_type": "code",
   "execution_count": 1,
   "outputs": [
    {
     "ename": "NameError",
     "evalue": "name 'pd' is not defined",
     "output_type": "error",
     "traceback": [
      "\u001B[0;31m---------------------------------------------------------------------------\u001B[0m",
      "\u001B[0;31mNameError\u001B[0m                                 Traceback (most recent call last)",
      "Cell \u001B[0;32mIn[1], line 4\u001B[0m\n\u001B[1;32m      2\u001B[0m \u001B[38;5;28;01mwith\u001B[39;00m \u001B[38;5;28mopen\u001B[39m(\u001B[38;5;124m'\u001B[39m\u001B[38;5;124moutput_random.json\u001B[39m\u001B[38;5;124m'\u001B[39m) \u001B[38;5;28;01mas\u001B[39;00m f:\n\u001B[1;32m      3\u001B[0m     \u001B[38;5;28;01mfor\u001B[39;00m line \u001B[38;5;129;01min\u001B[39;00m f\u001B[38;5;241m.\u001B[39mreadlines():\n\u001B[0;32m----> 4\u001B[0m         json_data \u001B[38;5;241m=\u001B[39m \u001B[43mpd\u001B[49m\u001B[38;5;241m.\u001B[39mjson_normalize(json\u001B[38;5;241m.\u001B[39mloads(line))\n\u001B[1;32m      5\u001B[0m         dfs\u001B[38;5;241m.\u001B[39mappend(json_data)\n\u001B[1;32m      6\u001B[0m fedcs_df \u001B[38;5;241m=\u001B[39m pd\u001B[38;5;241m.\u001B[39mconcat(dfs, sort\u001B[38;5;241m=\u001B[39m\u001B[38;5;28;01mFalse\u001B[39;00m) \u001B[38;5;66;03m# or sort=True depending on your needs\u001B[39;00m\n",
      "\u001B[0;31mNameError\u001B[0m: name 'pd' is not defined"
     ]
    }
   ],
   "source": [
    "dfs = []\n",
    "with open('output_random.json') as f:\n",
    "    for line in f.readlines():\n",
    "        json_data = pd.json_normalize(json.loads(line))\n",
    "        dfs.append(json_data)\n",
    "fedcs_df = pd.concat(dfs, sort=False) # or sort=True depending on your needs"
   ],
   "metadata": {
    "collapsed": false,
    "ExecuteTime": {
     "end_time": "2023-07-03T14:21:42.729680426Z",
     "start_time": "2023-07-03T14:21:42.592684934Z"
    }
   }
  },
  {
   "cell_type": "code",
   "execution_count": null,
   "outputs": [],
   "source": [
    "fedcs_df"
   ],
   "metadata": {
    "collapsed": false
   }
  },
  {
   "cell_type": "code",
   "execution_count": 22,
   "outputs": [],
   "source": [
    "df_server_rounds = fedcs_df[['server_round', 'client_name']].groupby(['server_round']).count().reset_index()\n",
    "df_server_round_timeout_failures = fedcs_df[fedcs_df.reason == 'timeout failure'][['server_round', 'client_name']].groupby(['server_round']).count().reset_index()\n",
    "df_server_round_reliability_failures = fedcs_df[fedcs_df.reason == 'reliability failure'][['server_round', 'client_name']].groupby(['server_round']).count().reset_index()\n",
    "df_server_round_success = fedcs_df[fedcs_df.status == 'success'][['server_round', 'client_name']].groupby(['server_round']).count().reset_index()"
   ],
   "metadata": {
    "collapsed": false,
    "ExecuteTime": {
     "end_time": "2023-06-27T14:03:38.522982098Z",
     "start_time": "2023-06-27T14:03:38.509508955Z"
    }
   }
  },
  {
   "cell_type": "code",
   "execution_count": 26,
   "outputs": [
    {
     "data": {
      "text/plain": "   server_round  client_name\n0             0          200\n1             1          198\n2             2          200\n3             3          200\n4             4          200\n5             5          200\n6             6          200\n7             7          200\n8             8          200\n9             9          200",
      "text/html": "<div>\n<style scoped>\n    .dataframe tbody tr th:only-of-type {\n        vertical-align: middle;\n    }\n\n    .dataframe tbody tr th {\n        vertical-align: top;\n    }\n\n    .dataframe thead th {\n        text-align: right;\n    }\n</style>\n<table border=\"1\" class=\"dataframe\">\n  <thead>\n    <tr style=\"text-align: right;\">\n      <th></th>\n      <th>server_round</th>\n      <th>client_name</th>\n    </tr>\n  </thead>\n  <tbody>\n    <tr>\n      <th>0</th>\n      <td>0</td>\n      <td>200</td>\n    </tr>\n    <tr>\n      <th>1</th>\n      <td>1</td>\n      <td>198</td>\n    </tr>\n    <tr>\n      <th>2</th>\n      <td>2</td>\n      <td>200</td>\n    </tr>\n    <tr>\n      <th>3</th>\n      <td>3</td>\n      <td>200</td>\n    </tr>\n    <tr>\n      <th>4</th>\n      <td>4</td>\n      <td>200</td>\n    </tr>\n    <tr>\n      <th>5</th>\n      <td>5</td>\n      <td>200</td>\n    </tr>\n    <tr>\n      <th>6</th>\n      <td>6</td>\n      <td>200</td>\n    </tr>\n    <tr>\n      <th>7</th>\n      <td>7</td>\n      <td>200</td>\n    </tr>\n    <tr>\n      <th>8</th>\n      <td>8</td>\n      <td>200</td>\n    </tr>\n    <tr>\n      <th>9</th>\n      <td>9</td>\n      <td>200</td>\n    </tr>\n  </tbody>\n</table>\n</div>"
     },
     "execution_count": 26,
     "metadata": {},
     "output_type": "execute_result"
    }
   ],
   "source": [
    "df_server_rounds"
   ],
   "metadata": {
    "collapsed": false,
    "ExecuteTime": {
     "end_time": "2023-06-27T14:58:12.842449331Z",
     "start_time": "2023-06-27T14:58:12.838892369Z"
    }
   }
  },
  {
   "cell_type": "code",
   "execution_count": 25,
   "outputs": [
    {
     "data": {
      "text/plain": "<Figure size 640x480 with 1 Axes>",
      "image/png": "[encoded data removed]"
     },
     "metadata": {},
     "output_type": "display_data"
    }
   ],
   "source": [
    "\n",
    "species = np.array(df_server_rounds['server_round'])\n",
    "weight_counts = {\n",
    "    \"Timeout Failures\": np.array(df_server_round_timeout_failures['client_name']),\n",
    "    \"Reliability Failures\": np.array(df_server_round_reliability_failures['client_name']),\n",
    "    \"Success\": np.array(df_server_round_success['client_name'])\n",
    "}\n",
    "width = 0.5\n",
    "\n",
    "fig, ax = plt.subplots()\n",
    "bottom = np.zeros(10)\n",
    "\n",
    "for boolean, weight_count in weight_counts.items():\n",
    "    p = ax.bar(species, weight_count, width, label=boolean, bottom=bottom)\n",
    "    bottom += weight_count\n",
    "\n",
    "ax.set_title(\"Number of clients by successes / Failures\")\n",
    "ax.legend(loc=\"upper right\")\n",
    "\n",
    "plt.show()"
   ],
   "metadata": {
    "collapsed": false,
    "ExecuteTime": {
     "end_time": "2023-06-27T14:03:59.865681668Z",
     "start_time": "2023-06-27T14:03:59.727236092Z"
    }
   }
  },
  {
   "cell_type": "code",
   "execution_count": null,
   "outputs": [],
   "source": [],
   "metadata": {
    "collapsed": false
   }
  }
 ],
 "metadata": {
  "kernelspec": {
   "display_name": "Python 3",
   "language": "python",
   "name": "python3"
  },
  "language_info": {
   "codemirror_mode": {
    "name": "ipython",
    "version": 2
   },
   "file_extension": ".py",
   "mimetype": "text/x-python",
   "name": "python",
   "nbconvert_exporter": "python",
   "pygments_lexer": "ipython2",
   "version": "2.7.6"
  }
 },
 "nbformat": 4,
 "nbformat_minor": 0
}
