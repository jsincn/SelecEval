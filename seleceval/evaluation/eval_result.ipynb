{
 "cells": [
  {
   "cell_type": "code",
   "execution_count": 1,
   "metadata": {
    "collapsed": true,
    "ExecuteTime": {
     "end_time": "2023-06-13T12:17:03.589725089Z",
     "start_time": "2023-06-13T12:17:03.127856010Z"
    }
   },
   "outputs": [],
   "source": [
    "import pandas as pd\n",
    "import json"
   ]
  },
  {
   "cell_type": "code",
   "execution_count": 6,
   "outputs": [],
   "source": [
    "dfs = []\n",
    "with open('../output.json') as f:\n",
    "    for line in f.readlines():\n",
    "        json_data = pd.json_normalize(json.loads(line))\n",
    "        dfs.append(json_data)\n",
    "df = pd.concat(dfs, sort=False) # or sort=True depending on your needs"
   ],
   "metadata": {
    "collapsed": false,
    "ExecuteTime": {
     "end_time": "2023-06-13T13:16:00.954142196Z",
     "start_time": "2023-06-13T13:16:00.388873443Z"
    }
   }
  },
  {
   "cell_type": "code",
   "execution_count": 7,
   "outputs": [
    {
     "data": {
      "text/plain": "    server_round        client_name   status  current_timestamp  state.cpu  \\\n0              1      grating-truck     fail       1.686656e+09       4.70   \n0              1   blistering-syrup  success       1.686657e+09       5.91   \n0              1    dyadic-contract  success       1.686657e+09       4.69   \n0              1    blue-innovation  success       1.686657e+09       4.35   \n0              1      current-sauce  success       1.686657e+09       2.68   \n..           ...                ...      ...                ...        ...   \n0              1    similar-swimmer  success       1.686662e+09       4.67   \n0              1      stern-decibel  success       1.686662e+09       5.00   \n0              1       radiant-lard  success       1.686662e+09       3.94   \n0              1    finite-contract  success       1.686662e+09       6.52   \n0              2  undecidable-field     fail       1.686662e+09       6.00   \n\n    state.ram  state.network_bandwidth  state.i_reliability  \\\n0        6.19                    51.22              0.15846   \n0       11.26                    61.87              0.03528   \n0        8.84                    25.22              0.01971   \n0        8.44                    99.45              0.02724   \n0        5.14                     0.00              0.05043   \n..        ...                      ...                  ...   \n0        7.32                    47.77              0.09646   \n0        9.64                    15.02              0.05405   \n0        8.80                    54.97              0.10207   \n0        5.53                     9.41              0.06782   \n0        6.43                    61.89              0.03558   \n\n    state.i_performance_tier  state.client_name  execution_time  \\\n0                          2      grating-truck             NaN   \n0                          3   blistering-syrup      313.413745   \n0                          3    dyadic-contract      314.065611   \n0                          3    blue-innovation      318.520068   \n0                          2      current-sauce      320.464810   \n..                       ...                ...             ...   \n0                          3    similar-swimmer      201.870935   \n0                          2      stern-decibel      199.578154   \n0                          3       radiant-lard      188.640100   \n0                          3    finite-contract      159.407594   \n0                          2  undecidable-field             NaN   \n\n                                train_output.accuracy  \\\n0                                                 NaN   \n0    [0.27955555555555556, 0.4171111111111111, 0.463]   \n0   [0.29777777777777775, 0.42966666666666664, 0.4...   \n0                 [0.28355555555555556, 0.427, 0.473]   \n0   [0.2887777777777778, 0.41933333333333334, 0.47...   \n..                                                ...   \n0   [0.4537777777777778, 0.5088888888888888, 0.530...   \n0     [0.446, 0.5082222222222222, 0.5368888888888889]   \n0   [0.4483333333333333, 0.5113333333333333, 0.549...   \n0   [0.44433333333333336, 0.5043333333333333, 0.54...   \n0                                                 NaN   \n\n   train_output.avg_epoch_loss  \n0                          NaN  \n0              [0.0, 0.0, 0.0]  \n0              [0.0, 0.0, 0.0]  \n0              [0.0, 0.0, 0.0]  \n0              [0.0, 0.0, 0.0]  \n..                         ...  \n0              [0.0, 0.0, 0.0]  \n0              [0.0, 0.0, 0.0]  \n0              [0.0, 0.0, 0.0]  \n0              [0.0, 0.0, 0.0]  \n0                          NaN  \n\n[393 rows x 13 columns]",
      "text/html": "<div>\n<style scoped>\n    .dataframe tbody tr th:only-of-type {\n        vertical-align: middle;\n    }\n\n    .dataframe tbody tr th {\n        vertical-align: top;\n    }\n\n    .dataframe thead th {\n        text-align: right;\n    }\n</style>\n<table border=\"1\" class=\"dataframe\">\n  <thead>\n    <tr style=\"text-align: right;\">\n      <th></th>\n      <th>server_round</th>\n      <th>client_name</th>\n      <th>status</th>\n      <th>current_timestamp</th>\n      <th>state.cpu</th>\n      <th>state.ram</th>\n      <th>state.network_bandwidth</th>\n      <th>state.i_reliability</th>\n      <th>state.i_performance_tier</th>\n      <th>state.client_name</th>\n      <th>execution_time</th>\n      <th>train_output.accuracy</th>\n      <th>train_output.avg_epoch_loss</th>\n    </tr>\n  </thead>\n  <tbody>\n    <tr>\n      <th>0</th>\n      <td>1</td>\n      <td>grating-truck</td>\n      <td>fail</td>\n      <td>1.686656e+09</td>\n      <td>4.70</td>\n      <td>6.19</td>\n      <td>51.22</td>\n      <td>0.15846</td>\n      <td>2</td>\n      <td>grating-truck</td>\n      <td>NaN</td>\n      <td>NaN</td>\n      <td>NaN</td>\n    </tr>\n    <tr>\n      <th>0</th>\n      <td>1</td>\n      <td>blistering-syrup</td>\n      <td>success</td>\n      <td>1.686657e+09</td>\n      <td>5.91</td>\n      <td>11.26</td>\n      <td>61.87</td>\n      <td>0.03528</td>\n      <td>3</td>\n      <td>blistering-syrup</td>\n      <td>313.413745</td>\n      <td>[0.27955555555555556, 0.4171111111111111, 0.463]</td>\n      <td>[0.0, 0.0, 0.0]</td>\n    </tr>\n    <tr>\n      <th>0</th>\n      <td>1</td>\n      <td>dyadic-contract</td>\n      <td>success</td>\n      <td>1.686657e+09</td>\n      <td>4.69</td>\n      <td>8.84</td>\n      <td>25.22</td>\n      <td>0.01971</td>\n      <td>3</td>\n      <td>dyadic-contract</td>\n      <td>314.065611</td>\n      <td>[0.29777777777777775, 0.42966666666666664, 0.4...</td>\n      <td>[0.0, 0.0, 0.0]</td>\n    </tr>\n    <tr>\n      <th>0</th>\n      <td>1</td>\n      <td>blue-innovation</td>\n      <td>success</td>\n      <td>1.686657e+09</td>\n      <td>4.35</td>\n      <td>8.44</td>\n      <td>99.45</td>\n      <td>0.02724</td>\n      <td>3</td>\n      <td>blue-innovation</td>\n      <td>318.520068</td>\n      <td>[0.28355555555555556, 0.427, 0.473]</td>\n      <td>[0.0, 0.0, 0.0]</td>\n    </tr>\n    <tr>\n      <th>0</th>\n      <td>1</td>\n      <td>current-sauce</td>\n      <td>success</td>\n      <td>1.686657e+09</td>\n      <td>2.68</td>\n      <td>5.14</td>\n      <td>0.00</td>\n      <td>0.05043</td>\n      <td>2</td>\n      <td>current-sauce</td>\n      <td>320.464810</td>\n      <td>[0.2887777777777778, 0.41933333333333334, 0.47...</td>\n      <td>[0.0, 0.0, 0.0]</td>\n    </tr>\n    <tr>\n      <th>...</th>\n      <td>...</td>\n      <td>...</td>\n      <td>...</td>\n      <td>...</td>\n      <td>...</td>\n      <td>...</td>\n      <td>...</td>\n      <td>...</td>\n      <td>...</td>\n      <td>...</td>\n      <td>...</td>\n      <td>...</td>\n      <td>...</td>\n    </tr>\n    <tr>\n      <th>0</th>\n      <td>1</td>\n      <td>similar-swimmer</td>\n      <td>success</td>\n      <td>1.686662e+09</td>\n      <td>4.67</td>\n      <td>7.32</td>\n      <td>47.77</td>\n      <td>0.09646</td>\n      <td>3</td>\n      <td>similar-swimmer</td>\n      <td>201.870935</td>\n      <td>[0.4537777777777778, 0.5088888888888888, 0.530...</td>\n      <td>[0.0, 0.0, 0.0]</td>\n    </tr>\n    <tr>\n      <th>0</th>\n      <td>1</td>\n      <td>stern-decibel</td>\n      <td>success</td>\n      <td>1.686662e+09</td>\n      <td>5.00</td>\n      <td>9.64</td>\n      <td>15.02</td>\n      <td>0.05405</td>\n      <td>2</td>\n      <td>stern-decibel</td>\n      <td>199.578154</td>\n      <td>[0.446, 0.5082222222222222, 0.5368888888888889]</td>\n      <td>[0.0, 0.0, 0.0]</td>\n    </tr>\n    <tr>\n      <th>0</th>\n      <td>1</td>\n      <td>radiant-lard</td>\n      <td>success</td>\n      <td>1.686662e+09</td>\n      <td>3.94</td>\n      <td>8.80</td>\n      <td>54.97</td>\n      <td>0.10207</td>\n      <td>3</td>\n      <td>radiant-lard</td>\n      <td>188.640100</td>\n      <td>[0.4483333333333333, 0.5113333333333333, 0.549...</td>\n      <td>[0.0, 0.0, 0.0]</td>\n    </tr>\n    <tr>\n      <th>0</th>\n      <td>1</td>\n      <td>finite-contract</td>\n      <td>success</td>\n      <td>1.686662e+09</td>\n      <td>6.52</td>\n      <td>5.53</td>\n      <td>9.41</td>\n      <td>0.06782</td>\n      <td>3</td>\n      <td>finite-contract</td>\n      <td>159.407594</td>\n      <td>[0.44433333333333336, 0.5043333333333333, 0.54...</td>\n      <td>[0.0, 0.0, 0.0]</td>\n    </tr>\n    <tr>\n      <th>0</th>\n      <td>2</td>\n      <td>undecidable-field</td>\n      <td>fail</td>\n      <td>1.686662e+09</td>\n      <td>6.00</td>\n      <td>6.43</td>\n      <td>61.89</td>\n      <td>0.03558</td>\n      <td>2</td>\n      <td>undecidable-field</td>\n      <td>NaN</td>\n      <td>NaN</td>\n      <td>NaN</td>\n    </tr>\n  </tbody>\n</table>\n<p>393 rows × 13 columns</p>\n</div>"
     },
     "execution_count": 7,
     "metadata": {},
     "output_type": "execute_result"
    }
   ],
   "source": [
    "df"
   ],
   "metadata": {
    "collapsed": false,
    "ExecuteTime": {
     "end_time": "2023-06-13T13:16:00.998123573Z",
     "start_time": "2023-06-13T13:16:00.953356627Z"
    }
   }
  },
  {
   "cell_type": "code",
   "execution_count": null,
   "outputs": [],
   "source": [],
   "metadata": {
    "collapsed": false
   }
  }
 ],
 "metadata": {
  "kernelspec": {
   "display_name": "Python 3",
   "language": "python",
   "name": "python3"
  },
  "language_info": {
   "codemirror_mode": {
    "name": "ipython",
    "version": 2
   },
   "file_extension": ".py",
   "mimetype": "text/x-python",
   "name": "python",
   "nbconvert_exporter": "python",
   "pygments_lexer": "ipython2",
   "version": "2.7.6"
  }
 },
 "nbformat": 4,
 "nbformat_minor": 0
}
