{
 "cells": [
  {
   "cell_type": "code",
   "execution_count": 8,
   "metadata": {
    "collapsed": true,
    "ExecuteTime": {
     "end_time": "2023-06-12T22:03:40.725230740Z",
     "start_time": "2023-06-12T22:03:40.723134007Z"
    }
   },
   "outputs": [],
   "source": [
    "import pandas as pd\n",
    "import json"
   ]
  },
  {
   "cell_type": "code",
   "execution_count": 15,
   "outputs": [],
   "source": [
    "dfs = []\n",
    "with open('../output.txt') as f:\n",
    "    for line in f.readlines():\n",
    "        json_data = pd.json_normalize(json.loads(line))\n",
    "        dfs.append(json_data)\n",
    "df = pd.concat(dfs, sort=False) # or sort=True depending on your needs"
   ],
   "metadata": {
    "collapsed": false,
    "ExecuteTime": {
     "end_time": "2023-06-12T22:07:58.449424322Z",
     "start_time": "2023-06-12T22:07:58.436518798Z"
    }
   }
  },
  {
   "cell_type": "code",
   "execution_count": 16,
   "outputs": [
    {
     "data": {
      "text/plain": "          client_name  execution_time  current_timestamp  state.cpu  \\\n0     concrete-schema       21.665670       1.686608e+09       4.74   \n0          warm-color       21.743768       1.686608e+09       6.57   \n0        greedy-spitz       21.687510       1.686608e+09       5.41   \n0     distinct-island       21.726048       1.686608e+09       3.73   \n0  express-innovation       21.790720       1.686608e+09       5.21   \n0    caramel-pinscher       21.804224       1.686608e+09       6.70   \n0    diagonal-sickbay       21.828089       1.686608e+09       4.28   \n0         warm-weapon       21.823059       1.686608e+09       2.39   \n0      brownian-vault       21.826113       1.686608e+09       4.38   \n0        ebony-clique       21.878171       1.686608e+09       5.36   \n0    diagonal-sickbay        8.763408       1.686608e+09       4.28   \n0    caramel-pinscher        9.167298       1.686608e+09       6.70   \n\n   state.ram  state.network_bandwidth  state.reliabilty state.ExecutionTimes  \\\n0       8.41                    80.22           0.12738                    +   \n0       6.53                    72.15           0.01010                    +   \n0       9.34                    75.98           0.05018                    +   \n0       6.29                    20.96           0.04429                    +   \n0      10.19                     6.75           0.14367                    +   \n0       6.33                    49.15           0.09559                    +   \n0       7.08                    69.73           0.06623                    +   \n0       8.39                    28.15           0.13008                    +   \n0       6.93                    46.79           0.04615                    +   \n0       6.63                   108.22           0.22492                    +   \n0       7.08                    69.73           0.06623                    +   \n0       6.33                    49.15           0.09559                    +   \n\n  state.RoundParticipation    state.clientName  \\\n0                        +     concrete-schema   \n0                        +          warm-color   \n0                        +        greedy-spitz   \n0                        +     distinct-island   \n0                        +  express-innovation   \n0                        +    caramel-pinscher   \n0                        +    diagonal-sickbay   \n0                        +         warm-weapon   \n0                        +      brownian-vault   \n0                        +        ebony-clique   \n0                        +    diagonal-sickbay   \n0                        +    caramel-pinscher   \n\n                               train_output.accuracy  \\\n0    [0.2808888888888889, 0.4057777777777778, 0.458]   \n0  [0.28944444444444445, 0.4151111111111111, 0.46...   \n0  [0.2763333333333333, 0.41555555555555557, 0.46...   \n0    [0.289, 0.4151111111111111, 0.4647777777777778]   \n0  [0.28655555555555556, 0.4017777777777778, 0.45...   \n0  [0.2876666666666667, 0.4023333333333333, 0.463...   \n0  [0.2827777777777778, 0.4048888888888889, 0.459...   \n0   [0.2867777777777778, 0.41488888888888886, 0.469]   \n0  [0.2801111111111111, 0.4087777777777778, 0.452...   \n0  [0.2827777777777778, 0.40844444444444444, 0.46...   \n0  [0.45266666666666666, 0.5016666666666667, 0.54...   \n0     [0.44, 0.5008888888888889, 0.5411111111111111]   \n\n  train_output.avg_epoch_loss  \n0             [0.0, 0.0, 0.0]  \n0             [0.0, 0.0, 0.0]  \n0             [0.0, 0.0, 0.0]  \n0             [0.0, 0.0, 0.0]  \n0             [0.0, 0.0, 0.0]  \n0             [0.0, 0.0, 0.0]  \n0             [0.0, 0.0, 0.0]  \n0             [0.0, 0.0, 0.0]  \n0             [0.0, 0.0, 0.0]  \n0             [0.0, 0.0, 0.0]  \n0             [0.0, 0.0, 0.0]  \n0             [0.0, 0.0, 0.0]  ",
      "text/html": "<div>\n<style scoped>\n    .dataframe tbody tr th:only-of-type {\n        vertical-align: middle;\n    }\n\n    .dataframe tbody tr th {\n        vertical-align: top;\n    }\n\n    .dataframe thead th {\n        text-align: right;\n    }\n</style>\n<table border=\"1\" class=\"dataframe\">\n  <thead>\n    <tr style=\"text-align: right;\">\n      <th></th>\n      <th>client_name</th>\n      <th>execution_time</th>\n      <th>current_timestamp</th>\n      <th>state.cpu</th>\n      <th>state.ram</th>\n      <th>state.network_bandwidth</th>\n      <th>state.reliabilty</th>\n      <th>state.ExecutionTimes</th>\n      <th>state.RoundParticipation</th>\n      <th>state.clientName</th>\n      <th>train_output.accuracy</th>\n      <th>train_output.avg_epoch_loss</th>\n    </tr>\n  </thead>\n  <tbody>\n    <tr>\n      <th>0</th>\n      <td>concrete-schema</td>\n      <td>21.665670</td>\n      <td>1.686608e+09</td>\n      <td>4.74</td>\n      <td>8.41</td>\n      <td>80.22</td>\n      <td>0.12738</td>\n      <td>+</td>\n      <td>+</td>\n      <td>concrete-schema</td>\n      <td>[0.2808888888888889, 0.4057777777777778, 0.458]</td>\n      <td>[0.0, 0.0, 0.0]</td>\n    </tr>\n    <tr>\n      <th>0</th>\n      <td>warm-color</td>\n      <td>21.743768</td>\n      <td>1.686608e+09</td>\n      <td>6.57</td>\n      <td>6.53</td>\n      <td>72.15</td>\n      <td>0.01010</td>\n      <td>+</td>\n      <td>+</td>\n      <td>warm-color</td>\n      <td>[0.28944444444444445, 0.4151111111111111, 0.46...</td>\n      <td>[0.0, 0.0, 0.0]</td>\n    </tr>\n    <tr>\n      <th>0</th>\n      <td>greedy-spitz</td>\n      <td>21.687510</td>\n      <td>1.686608e+09</td>\n      <td>5.41</td>\n      <td>9.34</td>\n      <td>75.98</td>\n      <td>0.05018</td>\n      <td>+</td>\n      <td>+</td>\n      <td>greedy-spitz</td>\n      <td>[0.2763333333333333, 0.41555555555555557, 0.46...</td>\n      <td>[0.0, 0.0, 0.0]</td>\n    </tr>\n    <tr>\n      <th>0</th>\n      <td>distinct-island</td>\n      <td>21.726048</td>\n      <td>1.686608e+09</td>\n      <td>3.73</td>\n      <td>6.29</td>\n      <td>20.96</td>\n      <td>0.04429</td>\n      <td>+</td>\n      <td>+</td>\n      <td>distinct-island</td>\n      <td>[0.289, 0.4151111111111111, 0.4647777777777778]</td>\n      <td>[0.0, 0.0, 0.0]</td>\n    </tr>\n    <tr>\n      <th>0</th>\n      <td>express-innovation</td>\n      <td>21.790720</td>\n      <td>1.686608e+09</td>\n      <td>5.21</td>\n      <td>10.19</td>\n      <td>6.75</td>\n      <td>0.14367</td>\n      <td>+</td>\n      <td>+</td>\n      <td>express-innovation</td>\n      <td>[0.28655555555555556, 0.4017777777777778, 0.45...</td>\n      <td>[0.0, 0.0, 0.0]</td>\n    </tr>\n    <tr>\n      <th>0</th>\n      <td>caramel-pinscher</td>\n      <td>21.804224</td>\n      <td>1.686608e+09</td>\n      <td>6.70</td>\n      <td>6.33</td>\n      <td>49.15</td>\n      <td>0.09559</td>\n      <td>+</td>\n      <td>+</td>\n      <td>caramel-pinscher</td>\n      <td>[0.2876666666666667, 0.4023333333333333, 0.463...</td>\n      <td>[0.0, 0.0, 0.0]</td>\n    </tr>\n    <tr>\n      <th>0</th>\n      <td>diagonal-sickbay</td>\n      <td>21.828089</td>\n      <td>1.686608e+09</td>\n      <td>4.28</td>\n      <td>7.08</td>\n      <td>69.73</td>\n      <td>0.06623</td>\n      <td>+</td>\n      <td>+</td>\n      <td>diagonal-sickbay</td>\n      <td>[0.2827777777777778, 0.4048888888888889, 0.459...</td>\n      <td>[0.0, 0.0, 0.0]</td>\n    </tr>\n    <tr>\n      <th>0</th>\n      <td>warm-weapon</td>\n      <td>21.823059</td>\n      <td>1.686608e+09</td>\n      <td>2.39</td>\n      <td>8.39</td>\n      <td>28.15</td>\n      <td>0.13008</td>\n      <td>+</td>\n      <td>+</td>\n      <td>warm-weapon</td>\n      <td>[0.2867777777777778, 0.41488888888888886, 0.469]</td>\n      <td>[0.0, 0.0, 0.0]</td>\n    </tr>\n    <tr>\n      <th>0</th>\n      <td>brownian-vault</td>\n      <td>21.826113</td>\n      <td>1.686608e+09</td>\n      <td>4.38</td>\n      <td>6.93</td>\n      <td>46.79</td>\n      <td>0.04615</td>\n      <td>+</td>\n      <td>+</td>\n      <td>brownian-vault</td>\n      <td>[0.2801111111111111, 0.4087777777777778, 0.452...</td>\n      <td>[0.0, 0.0, 0.0]</td>\n    </tr>\n    <tr>\n      <th>0</th>\n      <td>ebony-clique</td>\n      <td>21.878171</td>\n      <td>1.686608e+09</td>\n      <td>5.36</td>\n      <td>6.63</td>\n      <td>108.22</td>\n      <td>0.22492</td>\n      <td>+</td>\n      <td>+</td>\n      <td>ebony-clique</td>\n      <td>[0.2827777777777778, 0.40844444444444444, 0.46...</td>\n      <td>[0.0, 0.0, 0.0]</td>\n    </tr>\n    <tr>\n      <th>0</th>\n      <td>diagonal-sickbay</td>\n      <td>8.763408</td>\n      <td>1.686608e+09</td>\n      <td>4.28</td>\n      <td>7.08</td>\n      <td>69.73</td>\n      <td>0.06623</td>\n      <td>+</td>\n      <td>+</td>\n      <td>diagonal-sickbay</td>\n      <td>[0.45266666666666666, 0.5016666666666667, 0.54...</td>\n      <td>[0.0, 0.0, 0.0]</td>\n    </tr>\n    <tr>\n      <th>0</th>\n      <td>caramel-pinscher</td>\n      <td>9.167298</td>\n      <td>1.686608e+09</td>\n      <td>6.70</td>\n      <td>6.33</td>\n      <td>49.15</td>\n      <td>0.09559</td>\n      <td>+</td>\n      <td>+</td>\n      <td>caramel-pinscher</td>\n      <td>[0.44, 0.5008888888888889, 0.5411111111111111]</td>\n      <td>[0.0, 0.0, 0.0]</td>\n    </tr>\n  </tbody>\n</table>\n</div>"
     },
     "execution_count": 16,
     "metadata": {},
     "output_type": "execute_result"
    }
   ],
   "source": [
    "df"
   ],
   "metadata": {
    "collapsed": false,
    "ExecuteTime": {
     "end_time": "2023-06-12T22:08:00.148892746Z",
     "start_time": "2023-06-12T22:08:00.106347977Z"
    }
   }
  }
 ],
 "metadata": {
  "kernelspec": {
   "display_name": "Python 3",
   "language": "python",
   "name": "python3"
  },
  "language_info": {
   "codemirror_mode": {
    "name": "ipython",
    "version": 2
   },
   "file_extension": ".py",
   "mimetype": "text/x-python",
   "name": "python",
   "nbconvert_exporter": "python",
   "pygments_lexer": "ipython2",
   "version": "2.7.6"
  }
 },
 "nbformat": 4,
 "nbformat_minor": 0
}
