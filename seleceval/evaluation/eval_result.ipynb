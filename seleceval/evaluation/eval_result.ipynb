{
 "cells": [
  {
   "cell_type": "code",
   "execution_count": 1,
   "metadata": {
    "collapsed": true,
    "ExecuteTime": {
     "end_time": "2023-06-13T12:17:03.589725089Z",
     "start_time": "2023-06-13T12:17:03.127856010Z"
    }
   },
   "outputs": [],
   "source": [
    "import pandas as pd\n",
    "import json"
   ]
  },
  {
   "cell_type": "code",
   "execution_count": 4,
   "outputs": [],
   "source": [
    "dfs = []\n",
    "with open('../output.json') as f:\n",
    "    for line in f.readlines():\n",
    "        json_data = pd.json_normalize(json.loads(line))\n",
    "        dfs.append(json_data)\n",
    "df = pd.concat(dfs, sort=False) # or sort=True depending on your needs"
   ],
   "metadata": {
    "collapsed": false,
    "ExecuteTime": {
     "end_time": "2023-06-13T12:19:29.283157964Z",
     "start_time": "2023-06-13T12:19:29.128532051Z"
    }
   }
  },
  {
   "cell_type": "code",
   "execution_count": 5,
   "outputs": [
    {
     "data": {
      "text/plain": "    server_round             client_name   status  current_timestamp  \\\n0              1           grating-truck     fail       1.686656e+09   \n0              1        blistering-syrup  success       1.686657e+09   \n0              1         dyadic-contract  success       1.686657e+09   \n0              1         blue-innovation  success       1.686657e+09   \n0              1           current-sauce  success       1.686657e+09   \n..           ...                     ...      ...                ...   \n0              1             minty-ident  success       1.686659e+09   \n0              1           gilded-garden  success       1.686659e+09   \n0              1         devout-highline  success       1.686659e+09   \n0              1  equilateral-pentatonic  success       1.686659e+09   \n0              1            tall-pyramid  success       1.686659e+09   \n\n    state.cpu  state.ram  state.network_bandwidth  state.i_reliability  \\\n0        4.70       6.19                    51.22              0.15846   \n0        5.91      11.26                    61.87              0.03528   \n0        4.69       8.84                    25.22              0.01971   \n0        4.35       8.44                    99.45              0.02724   \n0        2.68       5.14                     0.00              0.05043   \n..        ...        ...                      ...                  ...   \n0        7.69       6.42                    42.73              0.00702   \n0        6.12       7.00                    47.60              0.10039   \n0        3.53      11.07                    44.57              0.16449   \n0        4.64       7.82                   113.50              0.07766   \n0        6.01       4.69                    64.31              0.07801   \n\n    state.i_performance_tier       state.client_name  execution_time  \\\n0                          2           grating-truck             NaN   \n0                          3        blistering-syrup      313.413745   \n0                          3         dyadic-contract      314.065611   \n0                          3         blue-innovation      318.520068   \n0                          2           current-sauce      320.464810   \n..                       ...                     ...             ...   \n0                          2             minty-ident      166.237260   \n0                          1           gilded-garden      164.400000   \n0                          2         devout-highline      149.004915   \n0                          2  equilateral-pentatonic      147.973396   \n0                          2            tall-pyramid      136.617721   \n\n                                train_output.accuracy  \\\n0                                                 NaN   \n0    [0.27955555555555556, 0.4171111111111111, 0.463]   \n0   [0.29777777777777775, 0.42966666666666664, 0.4...   \n0                 [0.28355555555555556, 0.427, 0.473]   \n0   [0.2887777777777778, 0.41933333333333334, 0.47...   \n..                                                ...   \n0   [0.29188888888888886, 0.4161111111111111, 0.47...   \n0     [0.2872222222222222, 0.412, 0.4702222222222222]   \n0                 [0.281, 0.414, 0.48277777777777775]   \n0    [0.2843333333333333, 0.41788888888888887, 0.472]   \n0   [0.2851111111111111, 0.4157777777777778, 0.477...   \n\n   train_output.avg_epoch_loss  \n0                          NaN  \n0              [0.0, 0.0, 0.0]  \n0              [0.0, 0.0, 0.0]  \n0              [0.0, 0.0, 0.0]  \n0              [0.0, 0.0, 0.0]  \n..                         ...  \n0              [0.0, 0.0, 0.0]  \n0              [0.0, 0.0, 0.0]  \n0              [0.0, 0.0, 0.0]  \n0              [0.0, 0.0, 0.0]  \n0              [0.0, 0.0, 0.0]  \n\n[197 rows x 13 columns]",
      "text/html": "<div>\n<style scoped>\n    .dataframe tbody tr th:only-of-type {\n        vertical-align: middle;\n    }\n\n    .dataframe tbody tr th {\n        vertical-align: top;\n    }\n\n    .dataframe thead th {\n        text-align: right;\n    }\n</style>\n<table border=\"1\" class=\"dataframe\">\n  <thead>\n    <tr style=\"text-align: right;\">\n      <th></th>\n      <th>server_round</th>\n      <th>client_name</th>\n      <th>status</th>\n      <th>current_timestamp</th>\n      <th>state.cpu</th>\n      <th>state.ram</th>\n      <th>state.network_bandwidth</th>\n      <th>state.i_reliability</th>\n      <th>state.i_performance_tier</th>\n      <th>state.client_name</th>\n      <th>execution_time</th>\n      <th>train_output.accuracy</th>\n      <th>train_output.avg_epoch_loss</th>\n    </tr>\n  </thead>\n  <tbody>\n    <tr>\n      <th>0</th>\n      <td>1</td>\n      <td>grating-truck</td>\n      <td>fail</td>\n      <td>1.686656e+09</td>\n      <td>4.70</td>\n      <td>6.19</td>\n      <td>51.22</td>\n      <td>0.15846</td>\n      <td>2</td>\n      <td>grating-truck</td>\n      <td>NaN</td>\n      <td>NaN</td>\n      <td>NaN</td>\n    </tr>\n    <tr>\n      <th>0</th>\n      <td>1</td>\n      <td>blistering-syrup</td>\n      <td>success</td>\n      <td>1.686657e+09</td>\n      <td>5.91</td>\n      <td>11.26</td>\n      <td>61.87</td>\n      <td>0.03528</td>\n      <td>3</td>\n      <td>blistering-syrup</td>\n      <td>313.413745</td>\n      <td>[0.27955555555555556, 0.4171111111111111, 0.463]</td>\n      <td>[0.0, 0.0, 0.0]</td>\n    </tr>\n    <tr>\n      <th>0</th>\n      <td>1</td>\n      <td>dyadic-contract</td>\n      <td>success</td>\n      <td>1.686657e+09</td>\n      <td>4.69</td>\n      <td>8.84</td>\n      <td>25.22</td>\n      <td>0.01971</td>\n      <td>3</td>\n      <td>dyadic-contract</td>\n      <td>314.065611</td>\n      <td>[0.29777777777777775, 0.42966666666666664, 0.4...</td>\n      <td>[0.0, 0.0, 0.0]</td>\n    </tr>\n    <tr>\n      <th>0</th>\n      <td>1</td>\n      <td>blue-innovation</td>\n      <td>success</td>\n      <td>1.686657e+09</td>\n      <td>4.35</td>\n      <td>8.44</td>\n      <td>99.45</td>\n      <td>0.02724</td>\n      <td>3</td>\n      <td>blue-innovation</td>\n      <td>318.520068</td>\n      <td>[0.28355555555555556, 0.427, 0.473]</td>\n      <td>[0.0, 0.0, 0.0]</td>\n    </tr>\n    <tr>\n      <th>0</th>\n      <td>1</td>\n      <td>current-sauce</td>\n      <td>success</td>\n      <td>1.686657e+09</td>\n      <td>2.68</td>\n      <td>5.14</td>\n      <td>0.00</td>\n      <td>0.05043</td>\n      <td>2</td>\n      <td>current-sauce</td>\n      <td>320.464810</td>\n      <td>[0.2887777777777778, 0.41933333333333334, 0.47...</td>\n      <td>[0.0, 0.0, 0.0]</td>\n    </tr>\n    <tr>\n      <th>...</th>\n      <td>...</td>\n      <td>...</td>\n      <td>...</td>\n      <td>...</td>\n      <td>...</td>\n      <td>...</td>\n      <td>...</td>\n      <td>...</td>\n      <td>...</td>\n      <td>...</td>\n      <td>...</td>\n      <td>...</td>\n      <td>...</td>\n    </tr>\n    <tr>\n      <th>0</th>\n      <td>1</td>\n      <td>minty-ident</td>\n      <td>success</td>\n      <td>1.686659e+09</td>\n      <td>7.69</td>\n      <td>6.42</td>\n      <td>42.73</td>\n      <td>0.00702</td>\n      <td>2</td>\n      <td>minty-ident</td>\n      <td>166.237260</td>\n      <td>[0.29188888888888886, 0.4161111111111111, 0.47...</td>\n      <td>[0.0, 0.0, 0.0]</td>\n    </tr>\n    <tr>\n      <th>0</th>\n      <td>1</td>\n      <td>gilded-garden</td>\n      <td>success</td>\n      <td>1.686659e+09</td>\n      <td>6.12</td>\n      <td>7.00</td>\n      <td>47.60</td>\n      <td>0.10039</td>\n      <td>1</td>\n      <td>gilded-garden</td>\n      <td>164.400000</td>\n      <td>[0.2872222222222222, 0.412, 0.4702222222222222]</td>\n      <td>[0.0, 0.0, 0.0]</td>\n    </tr>\n    <tr>\n      <th>0</th>\n      <td>1</td>\n      <td>devout-highline</td>\n      <td>success</td>\n      <td>1.686659e+09</td>\n      <td>3.53</td>\n      <td>11.07</td>\n      <td>44.57</td>\n      <td>0.16449</td>\n      <td>2</td>\n      <td>devout-highline</td>\n      <td>149.004915</td>\n      <td>[0.281, 0.414, 0.48277777777777775]</td>\n      <td>[0.0, 0.0, 0.0]</td>\n    </tr>\n    <tr>\n      <th>0</th>\n      <td>1</td>\n      <td>equilateral-pentatonic</td>\n      <td>success</td>\n      <td>1.686659e+09</td>\n      <td>4.64</td>\n      <td>7.82</td>\n      <td>113.50</td>\n      <td>0.07766</td>\n      <td>2</td>\n      <td>equilateral-pentatonic</td>\n      <td>147.973396</td>\n      <td>[0.2843333333333333, 0.41788888888888887, 0.472]</td>\n      <td>[0.0, 0.0, 0.0]</td>\n    </tr>\n    <tr>\n      <th>0</th>\n      <td>1</td>\n      <td>tall-pyramid</td>\n      <td>success</td>\n      <td>1.686659e+09</td>\n      <td>6.01</td>\n      <td>4.69</td>\n      <td>64.31</td>\n      <td>0.07801</td>\n      <td>2</td>\n      <td>tall-pyramid</td>\n      <td>136.617721</td>\n      <td>[0.2851111111111111, 0.4157777777777778, 0.477...</td>\n      <td>[0.0, 0.0, 0.0]</td>\n    </tr>\n  </tbody>\n</table>\n<p>197 rows × 13 columns</p>\n</div>"
     },
     "execution_count": 5,
     "metadata": {},
     "output_type": "execute_result"
    }
   ],
   "source": [
    "df"
   ],
   "metadata": {
    "collapsed": false,
    "ExecuteTime": {
     "end_time": "2023-06-13T12:19:29.869004047Z",
     "start_time": "2023-06-13T12:19:29.863447981Z"
    }
   }
  },
  {
   "cell_type": "code",
   "execution_count": null,
   "outputs": [],
   "source": [],
   "metadata": {
    "collapsed": false
   }
  }
 ],
 "metadata": {
  "kernelspec": {
   "display_name": "Python 3",
   "language": "python",
   "name": "python3"
  },
  "language_info": {
   "codemirror_mode": {
    "name": "ipython",
    "version": 2
   },
   "file_extension": ".py",
   "mimetype": "text/x-python",
   "name": "python",
   "nbconvert_exporter": "python",
   "pygments_lexer": "ipython2",
   "version": "2.7.6"
  }
 },
 "nbformat": 4,
 "nbformat_minor": 0
}
